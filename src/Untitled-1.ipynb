{
 "cells": [
  {
   "cell_type": "code",
   "execution_count": 5,
   "metadata": {},
   "outputs": [],
   "source": [
    "import sys\n",
    "filename = sys.argv[1]\n",
    "file2 = sys.argv[2]"
   ]
  },
  {
   "cell_type": "markdown",
   "metadata": {},
   "source": [
    "*Import Libraries*"
   ]
  },
  {
   "cell_type": "code",
   "execution_count": null,
   "metadata": {},
   "outputs": [],
   "source": [
    "\n",
    "import numpy as np\n",
    "import pandas as pd\n",
    "import torch\n",
    "import torch.nn as nn\n",
    "from sklearn.model_selection import train_test_split\n",
    "from sklearn.metrics import classification_report\n",
    "import transformers\n",
    "from transformers import AutoModel, BertTokenizerFast\n",
    "#For PreProcessing\n",
    "import re\n",
    "import nltk\n",
    "from nltk.corpus import stopwords\n",
    "from nltk.tokenize import word_tokenize"
   ]
  },
  {
   "cell_type": "code",
   "execution_count": 7,
   "metadata": {},
   "outputs": [],
   "source": [
    "#Import file\n",
    "input_file = '/Users/agos/Documents/Echo-Chambers/MyProject/Datasets/brexit_stances.tsv'\n",
    "df = pd.read_csv(input_file, sep='\\t', header=0, usecols=['tweets', 'stance'])\n",
    "# specify GPU\n",
    "device = torch.device(\"cuda\" if torch.cuda.is_available() else \"cpu\")"
   ]
  },
  {
   "cell_type": "markdown",
   "metadata": {},
   "source": [
    "General Preprocess"
   ]
  },
  {
   "cell_type": "code",
   "execution_count": 8,
   "metadata": {},
   "outputs": [],
   "source": [
    "def preprocess_tweet(tweet, min_length=4, max_length=10):\n",
    "    # Remove URLs\n",
    "    tweet = re.sub(r\"http\\S+|www\\S+|https\\S+\", \"\", tweet, flags=re.MULTILINE)\n",
    "    # Remove mentions\n",
    "    tweet = re.sub(r\"@\\w+\", \"\", tweet)\n",
    "    # Remove special characters and numbers\n",
    "    tweet = re.sub(r\"[^a-zA-Z']\", \" \", tweet)\n",
    "    #Remove stuff between ()\n",
    "    tweet = re.sub(r\"\\(.*?\\)\", \"\", tweet)\n",
    "    # Tokenize the tweet\n",
    "    tokens = word_tokenize(tweet)\n",
    "    # Convert to lowercase\n",
    "    tokens = [token.lower() for token in tokens]\n",
    "    # Remove stopwords\n",
    "    #stop_words = set(stopwords.words(\"english\"))\n",
    "    #tokens = [token for token in tokens if token not in stop_words]\n",
    "    # Join the tokens back into a single string\n",
    "    preprocessed_tweet = \" \".join(tokens)\n",
    "\n",
    "    return preprocessed_tweet"
   ]
  },
  {
   "cell_type": "markdown",
   "metadata": {},
   "source": [
    "Handling hastags"
   ]
  },
  {
   "cell_type": "code",
   "execution_count": 10,
   "metadata": {},
   "outputs": [
    {
     "ename": "ModuleNotFoundError",
     "evalue": "No module named 'ekphrasis'",
     "output_type": "error",
     "traceback": [
      "\u001b[0;31m---------------------------------------------------------------------------\u001b[0m",
      "\u001b[0;31mModuleNotFoundError\u001b[0m                       Traceback (most recent call last)",
      "\u001b[1;32m/Users/agos/Echo-Chambers/MyProject/Untitled-1.ipynb Cella 8\u001b[0m line \u001b[0;36m1\n\u001b[0;32m----> <a href='vscode-notebook-cell:/Users/agos/Echo-Chambers/MyProject/Untitled-1.ipynb#X10sZmlsZQ%3D%3D?line=0'>1</a>\u001b[0m \u001b[39mimport\u001b[39;00m \u001b[39mekphrasis\u001b[39;00m\n\u001b[1;32m      <a href='vscode-notebook-cell:/Users/agos/Echo-Chambers/MyProject/Untitled-1.ipynb#X10sZmlsZQ%3D%3D?line=1'>2</a>\u001b[0m \u001b[39mfrom\u001b[39;00m \u001b[39mekphrasis\u001b[39;00m\u001b[39m.\u001b[39;00m\u001b[39mclasses\u001b[39;00m\u001b[39m.\u001b[39;00m\u001b[39mpreprocessor\u001b[39;00m \u001b[39mimport\u001b[39;00m TextPreProcessor\n\u001b[1;32m      <a href='vscode-notebook-cell:/Users/agos/Echo-Chambers/MyProject/Untitled-1.ipynb#X10sZmlsZQ%3D%3D?line=2'>3</a>\u001b[0m \u001b[39mfrom\u001b[39;00m \u001b[39mekphrasis\u001b[39;00m\u001b[39m.\u001b[39;00m\u001b[39mclasses\u001b[39;00m\u001b[39m.\u001b[39;00m\u001b[39mtokenizer\u001b[39;00m \u001b[39mimport\u001b[39;00m SocialTokenizer\n",
      "\u001b[0;31mModuleNotFoundError\u001b[0m: No module named 'ekphrasis'"
     ]
    }
   ],
   "source": [
    "import ekphrasis\n",
    "from ekphrasis.classes.preprocessor import TextPreProcessor\n",
    "from ekphrasis.classes.tokenizer import SocialTokenizer\n",
    "from ekphrasis.dicts.emoticons import emoticons\n",
    "\n",
    "text_processor = TextPreProcessor(\n",
    "    # corpus from which the word statistics are going to be used for word segmentation\n",
    "    segmenter=\"twitter\",\n",
    "    # corpus from which the word statistics are going to be used for spell correction\n",
    "    corrector=\"twitter\",\n",
    "    unpack_hashtags=True,  # perform word segmentation on hashtags\n",
    "    unpack_contractions=True,  # Unpack contractions (can't -> can not)\n",
    "    spell_correct_elong=False,  # spell correction for elongated words\n",
    "\n",
    "    # select a tokenizer. You can use SocialTokenizer, or pass your own\n",
    "    # the tokenizer, should take as input a string and return a list of tokens\n",
    "    tokenizer=SocialTokenizer(lowercase=True).tokenize)"
   ]
  }
 ],
 "metadata": {
  "kernelspec": {
   "display_name": "echochambers",
   "language": "python",
   "name": "python3"
  },
  "language_info": {
   "codemirror_mode": {
    "name": "ipython",
    "version": 3
   },
   "file_extension": ".py",
   "mimetype": "text/x-python",
   "name": "python",
   "nbconvert_exporter": "python",
   "pygments_lexer": "ipython3",
   "version": "3.10.8"
  },
  "orig_nbformat": 4
 },
 "nbformat": 4,
 "nbformat_minor": 2
}
